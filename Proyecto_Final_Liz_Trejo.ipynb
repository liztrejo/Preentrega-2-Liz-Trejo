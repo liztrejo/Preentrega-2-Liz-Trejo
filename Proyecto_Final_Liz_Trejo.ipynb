{
  "nbformat": 4,
  "nbformat_minor": 0,
  "metadata": {
    "colab": {
      "provenance": [],
      "authorship_tag": "ABX9TyNsqsGUNU590Otnr4G7dJnm",
      "include_colab_link": true
    },
    "kernelspec": {
      "name": "python3",
      "display_name": "Python 3"
    },
    "language_info": {
      "name": "python"
    }
  },
  "cells": [
    {
      "cell_type": "markdown",
      "metadata": {
        "id": "view-in-github",
        "colab_type": "text"
      },
      "source": [
        "<a href=\"https://colab.research.google.com/github/liztrejo/Preentrega-2-Liz-Trejo/blob/main/Proyecto_Final_Liz_Trejo.ipynb\" target=\"_parent\"><img src=\"https://colab.research.google.com/assets/colab-badge.svg\" alt=\"Open In Colab\"/></a>"
      ]
    },
    {
      "cell_type": "markdown",
      "source": [
        "# Proyecto Final-Liz-Trejo"
      ],
      "metadata": {
        "id": "xnWkuKu0ovVV"
      }
    },
    {
      "cell_type": "code",
      "source": [
        "!pip install openai==0.28"
      ],
      "metadata": {
        "colab": {
          "base_uri": "https://localhost:8080/"
        },
        "id": "OOoEYGNNoz52",
        "outputId": "9598c39b-0430-4e1a-ca84-5fb1e6fd9cee"
      },
      "execution_count": 1,
      "outputs": [
        {
          "output_type": "stream",
          "name": "stdout",
          "text": [
            "Collecting openai==0.28\n",
            "  Downloading openai-0.28.0-py3-none-any.whl (76 kB)\n",
            "\u001b[2K     \u001b[90m━━━━━━━━━━━━━━━━━━━━━━━━━━━━━━━━━━━━━━━━\u001b[0m \u001b[32m76.5/76.5 kB\u001b[0m \u001b[31m928.6 kB/s\u001b[0m eta \u001b[36m0:00:00\u001b[0m\n",
            "\u001b[?25hRequirement already satisfied: requests>=2.20 in /usr/local/lib/python3.10/dist-packages (from openai==0.28) (2.31.0)\n",
            "Requirement already satisfied: tqdm in /usr/local/lib/python3.10/dist-packages (from openai==0.28) (4.66.2)\n",
            "Requirement already satisfied: aiohttp in /usr/local/lib/python3.10/dist-packages (from openai==0.28) (3.9.3)\n",
            "Requirement already satisfied: charset-normalizer<4,>=2 in /usr/local/lib/python3.10/dist-packages (from requests>=2.20->openai==0.28) (3.3.2)\n",
            "Requirement already satisfied: idna<4,>=2.5 in /usr/local/lib/python3.10/dist-packages (from requests>=2.20->openai==0.28) (3.6)\n",
            "Requirement already satisfied: urllib3<3,>=1.21.1 in /usr/local/lib/python3.10/dist-packages (from requests>=2.20->openai==0.28) (2.0.7)\n",
            "Requirement already satisfied: certifi>=2017.4.17 in /usr/local/lib/python3.10/dist-packages (from requests>=2.20->openai==0.28) (2024.2.2)\n",
            "Requirement already satisfied: aiosignal>=1.1.2 in /usr/local/lib/python3.10/dist-packages (from aiohttp->openai==0.28) (1.3.1)\n",
            "Requirement already satisfied: attrs>=17.3.0 in /usr/local/lib/python3.10/dist-packages (from aiohttp->openai==0.28) (23.2.0)\n",
            "Requirement already satisfied: frozenlist>=1.1.1 in /usr/local/lib/python3.10/dist-packages (from aiohttp->openai==0.28) (1.4.1)\n",
            "Requirement already satisfied: multidict<7.0,>=4.5 in /usr/local/lib/python3.10/dist-packages (from aiohttp->openai==0.28) (6.0.5)\n",
            "Requirement already satisfied: yarl<2.0,>=1.0 in /usr/local/lib/python3.10/dist-packages (from aiohttp->openai==0.28) (1.9.4)\n",
            "Requirement already satisfied: async-timeout<5.0,>=4.0 in /usr/local/lib/python3.10/dist-packages (from aiohttp->openai==0.28) (4.0.3)\n",
            "Installing collected packages: openai\n",
            "Successfully installed openai-0.28.0\n"
          ]
        }
      ]
    },
    {
      "cell_type": "code",
      "execution_count": null,
      "metadata": {
        "id": "8igd1AYPn_aN"
      },
      "outputs": [],
      "source": []
    },
    {
      "cell_type": "markdown",
      "source": [
        "# Paso 1: Preparación\n",
        "Asegurar de tener instalado la biblioteca **openai** de Python"
      ],
      "metadata": {
        "id": "-jMJrgNCpL8K"
      }
    },
    {
      "cell_type": "markdown",
      "source": [
        "# Paso 2: Configurar la API"
      ],
      "metadata": {
        "id": "oBVYSq2-qfmS"
      }
    },
    {
      "cell_type": "code",
      "source": [
        "import openai\n",
        "openai.api_key = \"\""
      ],
      "metadata": {
        "id": "Cv25RN46pCvV"
      },
      "execution_count": 2,
      "outputs": []
    },
    {
      "cell_type": "markdown",
      "source": [
        "# Paso 3: Crear la solicitud"
      ],
      "metadata": {
        "id": "p1fXGW8VqUEa"
      }
    },
    {
      "cell_type": "code",
      "source": [
        "#Make the context of our prompt envoirement\n",
        "context = 'El área de interés es el desarrollo de programas educativos innnovadores. Esta vez se desarrolla un programa de juegos en los espacios de trabajo utilizando la metodología de gamificación. Se trata de un programa de Bienestar Laboral que tiene la finalidad de implementar gamificación en los entornos de trabajo para que puedan elevar su nivel de satisfacción, bienestar y felicidad de los trabajadores en el trabajo y así, favorecer la productividad laboral. Durante las sesiones de juego se considera que participen hasta 50 personas en cada uno.'\n",
        "\n",
        "#prompt (text/user's question)\n",
        "prompt = \"Eres un experto en Gamificación y desarrollas 15 propuestas de juegos diferentes para implementarse en los espacios de trabajo. Cada diseño de juego debe llevar marcado el día de la semana en el que se considera ejecutar, duración del juego y número del juego. Desarrolla la descripción de cada juego utilizando la metodología de gamificación en menos de 20 palabras cada juego. Calendariza de lunes a viernes durante 15 días un juego diferente cada día (los juegos duran 5, 15 o 30 minutos).\""
      ],
      "metadata": {
        "id": "qYdoeVuhqZaS"
      },
      "execution_count": 3,
      "outputs": []
    },
    {
      "cell_type": "markdown",
      "source": [
        "# Paso 4: Configurar el prompt con ChatGPT"
      ],
      "metadata": {
        "id": "CggO4FgUryfy"
      }
    },
    {
      "cell_type": "code",
      "source": [
        "# Make the request\n",
        "conversation = [\n",
        "    {\"role\": \"system\", \"content\": context},\n",
        "    {\"role\": \"user\", \"content\": prompt}\n",
        "]\n",
        "\n",
        "response = openai.ChatCompletion.create(\n",
        "    model='gpt-3.5-turbo',\n",
        "    messages=conversation,\n",
        "    max_tokens=1000\n",
        ")\n",
        "\n",
        "message = response.choices[0]['message']\n",
        "print(\"{}: {}\".format(message['role'], message['content']))"
      ],
      "metadata": {
        "id": "KO8eAV3nr3rK",
        "colab": {
          "base_uri": "https://localhost:8080/"
        },
        "outputId": "66cd7ed5-3414-459f-f2d1-e6e9a525d18a"
      },
      "execution_count": 4,
      "outputs": [
        {
          "output_type": "stream",
          "name": "stdout",
          "text": [
            "assistant: **Día 1 - Lunes**\n",
            "Juego 1: \"Búsqueda del Tesoro\"\n",
            "Duración: 30 min\n",
            "¡Encuentra los objetos escondidos por la oficina para ganar premios!\n",
            "\n",
            "**Día 2 - Martes**\n",
            "Juego 2: \"Trivia Interactiva\"\n",
            "Duración: 15 min\n",
            "Responde preguntas de la empresa y gana puntos para tu equipo.\n",
            "\n",
            "**Día 3 - Miércoles**\n",
            "Juego 3: \"Desafío de Jenga\"\n",
            "Duración: 30 min\n",
            "Equipo que construya la torre más alta sin caerse gana.\n",
            "\n",
            "**Día 4 - Jueves**\n",
            "Juego 4: \"Carrera de Obstáculos\"\n",
            "Duración: 15 min\n",
            "Supera desafíos físicos y mentales para llegar a la meta primero.\n",
            "\n",
            "**Día 5 - Viernes**\n",
            "Juego 5: \"Batalla de Globos de Agua\"\n",
            "Duración: 30 min\n",
            "¡Diviértete y refresca a tus compañeros en una guerra de globos!\n",
            "\n",
            "**Día 6 - Lunes**\n",
            "Juego 6: \"Laboratorio de Creatividad\"\n",
            "Duración: 30 min\n",
            "Genera ideas innovadoras en equipo para resolver desafíos laborales.\n",
            "\n",
            "**Día 7 - Martes**\n",
            "Juego 7: \"Pictionary Corporativo\"\n",
            "Duración: 15 min\n",
            "Adivina las palabras dibujadas por tus compañeros para sumar puntos.\n",
            "\n",
            "**Día 8 - Miércoles**\n",
            "Juego 8: \"Maratón de Baile\"\n",
            "Duración: 30 min\n",
            "Baila en equipo y mantén la energía alta para ganar.\n",
            "\n",
            "**Día 9 - Jueves**\n",
            "Juego 9: \"Escape Room de la Oficina\"\n",
            "Duración: 30 min\n",
            "Resuelve acertijos y encuentra la salida antes que el tiempo se acabe.\n",
            "\n",
            "**Día 10 - Viernes**\n",
            "Juego 10: \"Construcción de Torres\"\n",
            "Duración: 30 min\n",
            "Construye la torre más alta utilizando materiales de oficina.\n",
            "\n",
            "**Día 11 - Lunes**\n",
            "Juego 11: \"Quiz de Películas\"\n",
            "Duración: 15 min\n",
            "Responde preguntas sobre películas famosas y suma puntos para tu equipo.\n",
            "\n",
            "**Día 12 - Martes**\n",
            "Juego 12: \"Torneo de Ping Pong\"\n",
            "Duración: 30 min\n",
            "¡Demuestra tus habilidades en una competencia de Ping Pong!\n",
            "\n",
            "**Día 13 - Miércoles**\n",
            "Juego 13: \"Búsqueda del Emoji Perdido\"\n",
            "Duración: 15 min\n",
            "Encuentra emojis escondidos en la oficina para acumular puntos.\n",
            "\n",
            "**Día 14 - Jueves**\n",
            "Juego 14: \"Competencia de Fotografía\"\n",
            "Duración: 30 min\n",
            "Toma fotos creativas siguiendo consignas específicas para ganar.\n",
            "\n",
            "**Día 15 - Viernes**\n",
            "Juego 15: \"Karaoke en Equipo\"\n",
            "Duración: 30 min\n",
            "Canta junto a tus colegas y diviértete en esta competencia musical.\n"
          ]
        }
      ]
    },
    {
      "cell_type": "markdown",
      "source": [
        "# Paso 5: Almacenar la respuesta en una variable"
      ],
      "metadata": {
        "id": "uAbxjUWjX93Q"
      }
    },
    {
      "cell_type": "code",
      "source": [
        "#Storage the response in a variable to use it\n",
        "story_made = response['choices'][0]['message']['content'].strip()\n",
        "\n",
        "#Use the variable\n",
        "print(\"Historia creada:\", story_made)"
      ],
      "metadata": {
        "colab": {
          "base_uri": "https://localhost:8080/"
        },
        "id": "HiABBrFDYAdt",
        "outputId": "634c3424-45bf-47dd-a4fb-3f66e768d7c4"
      },
      "execution_count": 5,
      "outputs": [
        {
          "output_type": "stream",
          "name": "stdout",
          "text": [
            "Historia creada: **Día 1 - Lunes**\n",
            "Juego 1: \"Búsqueda del Tesoro\"\n",
            "Duración: 30 min\n",
            "¡Encuentra los objetos escondidos por la oficina para ganar premios!\n",
            "\n",
            "**Día 2 - Martes**\n",
            "Juego 2: \"Trivia Interactiva\"\n",
            "Duración: 15 min\n",
            "Responde preguntas de la empresa y gana puntos para tu equipo.\n",
            "\n",
            "**Día 3 - Miércoles**\n",
            "Juego 3: \"Desafío de Jenga\"\n",
            "Duración: 30 min\n",
            "Equipo que construya la torre más alta sin caerse gana.\n",
            "\n",
            "**Día 4 - Jueves**\n",
            "Juego 4: \"Carrera de Obstáculos\"\n",
            "Duración: 15 min\n",
            "Supera desafíos físicos y mentales para llegar a la meta primero.\n",
            "\n",
            "**Día 5 - Viernes**\n",
            "Juego 5: \"Batalla de Globos de Agua\"\n",
            "Duración: 30 min\n",
            "¡Diviértete y refresca a tus compañeros en una guerra de globos!\n",
            "\n",
            "**Día 6 - Lunes**\n",
            "Juego 6: \"Laboratorio de Creatividad\"\n",
            "Duración: 30 min\n",
            "Genera ideas innovadoras en equipo para resolver desafíos laborales.\n",
            "\n",
            "**Día 7 - Martes**\n",
            "Juego 7: \"Pictionary Corporativo\"\n",
            "Duración: 15 min\n",
            "Adivina las palabras dibujadas por tus compañeros para sumar puntos.\n",
            "\n",
            "**Día 8 - Miércoles**\n",
            "Juego 8: \"Maratón de Baile\"\n",
            "Duración: 30 min\n",
            "Baila en equipo y mantén la energía alta para ganar.\n",
            "\n",
            "**Día 9 - Jueves**\n",
            "Juego 9: \"Escape Room de la Oficina\"\n",
            "Duración: 30 min\n",
            "Resuelve acertijos y encuentra la salida antes que el tiempo se acabe.\n",
            "\n",
            "**Día 10 - Viernes**\n",
            "Juego 10: \"Construcción de Torres\"\n",
            "Duración: 30 min\n",
            "Construye la torre más alta utilizando materiales de oficina.\n",
            "\n",
            "**Día 11 - Lunes**\n",
            "Juego 11: \"Quiz de Películas\"\n",
            "Duración: 15 min\n",
            "Responde preguntas sobre películas famosas y suma puntos para tu equipo.\n",
            "\n",
            "**Día 12 - Martes**\n",
            "Juego 12: \"Torneo de Ping Pong\"\n",
            "Duración: 30 min\n",
            "¡Demuestra tus habilidades en una competencia de Ping Pong!\n",
            "\n",
            "**Día 13 - Miércoles**\n",
            "Juego 13: \"Búsqueda del Emoji Perdido\"\n",
            "Duración: 15 min\n",
            "Encuentra emojis escondidos en la oficina para acumular puntos.\n",
            "\n",
            "**Día 14 - Jueves**\n",
            "Juego 14: \"Competencia de Fotografía\"\n",
            "Duración: 30 min\n",
            "Toma fotos creativas siguiendo consignas específicas para ganar.\n",
            "\n",
            "**Día 15 - Viernes**\n",
            "Juego 15: \"Karaoke en Equipo\"\n",
            "Duración: 30 min\n",
            "Canta junto a tus colegas y diviértete en esta competencia musical.\n"
          ]
        }
      ]
    },
    {
      "cell_type": "markdown",
      "source": [
        "# Paso 6: Realizar el modelo / imagen"
      ],
      "metadata": {
        "id": "wGvdzHYmYxOj"
      }
    },
    {
      "cell_type": "code",
      "source": [
        "# Now use story_made as the context for a new prompt\n",
        "process_text_to_image = \"En base a la historia anterior crea un prompt que pueda generar una imagen que muestre el escenario correspondiente a la historia de cada juego. Sé claro y enfócate en crear un solo prompt que nos sirva para solicitar la imagen de cada uno de los juegos, de tal forma que, sea una sola plantilla de prompt que solicite un texto para generar una imagen por cada juego y solo sea necesario pegar  el título y la descripción de cada juego.\"\n",
        "\n",
        "# Add the new user message with story_made as the context\n",
        "conversation.append({\"role\": \"user\", \"content\": process_text_to_image})\n",
        "\n",
        "# Make the request for the new prompt\n",
        "response = openai.ChatCompletion.create(\n",
        "    model='gpt-3.5-turbo',\n",
        "    messages=conversation,\n",
        "    max_tokens=1000\n",
        ")\n",
        "\n",
        "# Get and print the new story\n",
        "img_prompt = response['choices'][0]['message']['content'].strip()\n",
        "print(\"Prompt de la escena:\", img_prompt)"
      ],
      "metadata": {
        "colab": {
          "base_uri": "https://localhost:8080/"
        },
        "id": "x8Rv1-hlY02C",
        "outputId": "d42b1800-b2eb-4db0-b1b6-8bd24271be13"
      },
      "execution_count": 30,
      "outputs": [
        {
          "output_type": "stream",
          "name": "stdout",
          "text": [
            "Prompt de la escena: ¡Por supuesto! A continuación, encontrarás la plantilla del prompt que puedes usar para generar una imagen del escenario correspondiente a la historia de cada uno de los juegos:\n",
            "\n",
            "**TÍTULO:**\n",
            "\n",
            "**DESCRIPCIÓN:**\n",
            "\n",
            "Por favor, copia y pega el título y la descripción de cada juego en la plantilla para solicitar la imagen correspondiente. Una vez que tengas los 15 juegos completos, podrás generar las imágenes de cada uno de forma rápida y sencilla. ¡Estoy aquí para ayudarte en lo que necesites!\n"
          ]
        }
      ]
    },
    {
      "cell_type": "markdown",
      "source": [
        "#Paso 7: Solicitar el prompt de imagen"
      ],
      "metadata": {
        "id": "YMilJKqIWAym"
      }
    },
    {
      "cell_type": "code",
      "source": [
        "#Make the context of our prompt envoirement\n",
        "context = 'El área de interés es el diseño gráfico, el proyecto es generar imágenes a partir de texto que expliquen los juegos que se planean para un proyecto en gamificación de la felicidad en los ambientes laborales.'\n",
        "\n",
        "#prompt (text/user's question)\n",
        "prompt = \"Crea un prompt de  texto que genere una imagen que represente lo siguiente: (Búsqueda del Tesoro, encuentra los objetos escondidos por la oficina para ganar premios).\""
      ],
      "metadata": {
        "id": "X9gUvPboWFrk"
      },
      "execution_count": 49,
      "outputs": []
    },
    {
      "cell_type": "code",
      "source": [
        "# Add the new user message with story_made as the context\n",
        "conversation.append({\"role\": \"user\", \"content\": process_text_to_image})\n",
        "\n",
        "# Make the request for the new prompt\n",
        "response = openai.ChatCompletion.create(\n",
        "    model='gpt-3.5-turbo',\n",
        "    messages=conversation,\n",
        "    max_tokens=1000\n",
        ")"
      ],
      "metadata": {
        "id": "CXn0leDAXxsi"
      },
      "execution_count": 50,
      "outputs": []
    },
    {
      "cell_type": "markdown",
      "source": [
        "# Paso 8: Crear las imágenes de texto a imagen"
      ],
      "metadata": {
        "id": "Wu89R4xvurZu"
      }
    },
    {
      "cell_type": "markdown",
      "source": [
        "https://creator.nightcafe.studio/\n"
      ],
      "metadata": {
        "id": "CU0kmOTbDjJX"
      }
    },
    {
      "cell_type": "markdown",
      "source": [],
      "metadata": {
        "id": "3vO5NkcYWU8P"
      }
    }
  ]
}